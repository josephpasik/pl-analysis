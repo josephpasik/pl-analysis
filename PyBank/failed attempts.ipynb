{
 "cells": [
  {
   "cell_type": "code",
   "execution_count": null,
   "metadata": {},
   "outputs": [],
   "source": []
  },
  {
   "cell_type": "code",
   "execution_count": 19,
   "metadata": {},
   "outputs": [],
   "source": [
    "from pathlib import Path\n",
    "import csv"
   ]
  },
  {
   "cell_type": "code",
   "execution_count": 20,
   "metadata": {},
   "outputs": [],
   "source": [
    "csvpath = Path('budget_data.csv')"
   ]
  },
  {
   "cell_type": "code",
   "execution_count": 3,
   "metadata": {},
   "outputs": [],
   "source": [
    "pnlvalues = []"
   ]
  },
  {
   "cell_type": "code",
   "execution_count": 4,
   "metadata": {},
   "outputs": [],
   "source": [
    "month_count = 0\n",
    "net = 0\n",
    "average_change = 0\n",
    "max_increase_date = \"\"\n",
    "max_increase = 0\n",
    "max_decrease_date = \"\"\n",
    "max_decrease = 0"
   ]
  },
  {
   "cell_type": "code",
   "execution_count": 73,
   "metadata": {},
   "outputs": [
    {
     "name": "stdout",
     "output_type": "stream",
     "text": [
      "86\n",
      "38382578\n"
     ]
    }
   ],
   "source": [
    "with open (csvpath, 'r') as csvfile:\n",
    "    csvreader = csv.reader(csvfile, delimiter=',')\n",
    "    csv_header = next(csvreader)\n",
    "    \n",
    "    for row in csvreader:\n",
    "        month_count += 1\n",
    "        net += int(row[1])\n",
    "    print(month_count)\n",
    "    print(net)"
   ]
  },
  {
   "cell_type": "code",
   "execution_count": 75,
   "metadata": {},
   "outputs": [],
   "source": [
    "        if max_profit < int(row[1]):\n",
    "            max_profit = int(row[1])\n",
    "            max_profit_date = row[0]\n",
    "        if max_loss > int(row[1]):\n",
    "            max_loss = int(row[1])\n",
    "            max_loss_date = row[0]\n",
    "            \n",
    "\n",
    "    print(max_profit)\n",
    "    print(max_profit_date)\n",
    "    print(max_loss)\n",
    "    print(max_loss_date)"
   ]
  },
  {
   "cell_type": "code",
   "execution_count": 10,
   "metadata": {},
   "outputs": [
    {
     "ename": "NameError",
     "evalue": "name 'revenue' is not defined",
     "output_type": "error",
     "traceback": [
      "\u001b[0;31m---------------------------------------------------------------------------\u001b[0m",
      "\u001b[0;31mNameError\u001b[0m                                 Traceback (most recent call last)",
      "\u001b[0;32m<ipython-input-10-73565e1638f2>\u001b[0m in \u001b[0;36m<module>\u001b[0;34m\u001b[0m\n\u001b[1;32m     17\u001b[0m         \u001b[0mpnl\u001b[0m \u001b[0;34m=\u001b[0m \u001b[0mint\u001b[0m\u001b[0;34m(\u001b[0m\u001b[0mrow\u001b[0m\u001b[0;34m[\u001b[0m\u001b[0;36m1\u001b[0m\u001b[0;34m]\u001b[0m\u001b[0;34m)\u001b[0m\u001b[0;34m\u001b[0m\u001b[0;34m\u001b[0m\u001b[0m\n\u001b[1;32m     18\u001b[0m         \u001b[0mmonth_count\u001b[0m \u001b[0;34m+=\u001b[0m \u001b[0;36m1\u001b[0m\u001b[0;34m\u001b[0m\u001b[0;34m\u001b[0m\u001b[0m\n\u001b[0;32m---> 19\u001b[0;31m         \u001b[0mtotal_pnl\u001b[0m \u001b[0;34m+=\u001b[0m \u001b[0mrevenue\u001b[0m\u001b[0;34m\u001b[0m\u001b[0;34m\u001b[0m\u001b[0m\n\u001b[0m\u001b[1;32m     20\u001b[0m         \u001b[0mchange_from_previous\u001b[0m\u001b[0;34m.\u001b[0m\u001b[0mappend\u001b[0m\u001b[0;34m(\u001b[0m\u001b[0mpnl\u001b[0m \u001b[0;34m-\u001b[0m \u001b[0mprevious_pnl\u001b[0m\u001b[0;34m)\u001b[0m\u001b[0;34m\u001b[0m\u001b[0;34m\u001b[0m\u001b[0m\n\u001b[1;32m     21\u001b[0m         \u001b[0mchange_from_previous_with_date\u001b[0m\u001b[0;34m.\u001b[0m\u001b[0mappend\u001b[0m\u001b[0;34m(\u001b[0m\u001b[0;34m[\u001b[0m\u001b[0mrow\u001b[0m\u001b[0;34m[\u001b[0m\u001b[0;36m0\u001b[0m\u001b[0;34m]\u001b[0m\u001b[0;34m,\u001b[0m \u001b[0mpnl\u001b[0m \u001b[0;34m-\u001b[0m \u001b[0mprevious_pnl\u001b[0m\u001b[0;34m]\u001b[0m\u001b[0;34m)\u001b[0m\u001b[0;34m\u001b[0m\u001b[0;34m\u001b[0m\u001b[0m\n",
      "\u001b[0;31mNameError\u001b[0m: name 'revenue' is not defined"
     ]
    }
   ],
   "source": [
    "month_count = 0\n",
    "total_pnl = 0\n",
    "max_increase_date = \"\"\n",
    "max_increase = 0\n",
    "max_decrease_date = \"\"\n",
    "max_decrease = 0\n",
    "\n",
    "change_from_previous = []\n",
    "change_from_previous_with_date = []\n",
    "\n",
    "with open(csvpath, 'r') as csvfile:\n",
    "    csvreader = csv.reader(csvfile, delimiter=\",\")\n",
    "    csv_header = next(csvreader)\n",
    "\n",
    "    previous_pnl = 867884\n",
    "    for row in csvreader:\n",
    "        pnl = int(row[1])\n",
    "        month_count += 1\n",
    "        total_pnl += revenue\n",
    "        change_from_previous.append(pnl - previous_pnl)\n",
    "        change_from_previous_with_date.append([row[0], pnl - previous_pnl])\n",
    "        previous_pnl = pnl\n",
    "    average_change = sum(change_from_previous)/(len(change_from_previous)-1)\n",
    "    \n",
    "    for i in change_from_previous:\n",
    "        if max_increase < i:\n",
    "            max_increase = i\n",
    "        if max_decrease > i:\n",
    "            max_decrease = i\n"
   ]
  },
  {
   "cell_type": "code",
   "execution_count": 67,
   "metadata": {},
   "outputs": [
    {
     "name": "stdout",
     "output_type": "stream",
     "text": [
      "Financial Analysis\n",
      "------------------\n",
      "Total Months: 86\n",
      "Total $38382578\n",
      "Greatest Increase in Profits: Feb-2012 ($1170593)\n",
      "Greatest Decrease in Profits: Sep-2013 ($-1196225)\n"
     ]
    }
   ],
   "source": [
    "print('Financial Analysis' + '\\n'\n",
    "    '------------------' + '\\n'\n",
    "    f'Total Months: {month_count}' + '\\n'\n",
    "    f'Total ${net}' + '\\n'\n",
    "    #f'Average Change: ${average_change}' + '\\n')\n",
    "    f'Greatest Increase in Profits: {max_profit_date} (${max_profit})' + '\\n'\n",
    "    f'Greatest Decrease in Profits: {max_loss_date} (${max_loss})')"
   ]
  },
  {
   "cell_type": "code",
   "execution_count": null,
   "metadata": {},
   "outputs": [],
   "source": []
  },
  {
   "cell_type": "code",
   "execution_count": null,
   "metadata": {},
   "outputs": [],
   "source": [
    "# set path for output\n",
    "output = Path('PyBank_output.txt')"
   ]
  },
  {
   "cell_type": "code",
   "execution_count": 2,
   "metadata": {},
   "outputs": [
    {
     "ename": "NameError",
     "evalue": "name 'month_count' is not defined",
     "output_type": "error",
     "traceback": [
      "\u001b[0;31m---------------------------------------------------------------------------\u001b[0m",
      "\u001b[0;31mNameError\u001b[0m                                 Traceback (most recent call last)",
      "\u001b[0;32m<ipython-input-2-29b3632a161e>\u001b[0m in \u001b[0;36m<module>\u001b[0;34m\u001b[0m\n\u001b[1;32m      5\u001b[0m     \u001b[0;34mf'Total Months: {month_count}'\u001b[0m \u001b[0;34m+\u001b[0m \u001b[0;34m'\\n'\u001b[0m\u001b[0;34m\u001b[0m\u001b[0;34m\u001b[0m\u001b[0m\n\u001b[1;32m      6\u001b[0m     \u001b[0;34mf'Total ${net}'\u001b[0m \u001b[0;34m+\u001b[0m \u001b[0;34m'\\n'\u001b[0m\u001b[0;34m\u001b[0m\u001b[0;34m\u001b[0m\u001b[0m\n\u001b[0;32m----> 7\u001b[0;31m     f'Average Change: ${average_change}' + '\\n')\n\u001b[0m\u001b[1;32m      8\u001b[0m     \u001b[0;32mfor\u001b[0m \u001b[0mdate\u001b[0m\u001b[0;34m,\u001b[0m \u001b[0mvalue\u001b[0m \u001b[0;32min\u001b[0m \u001b[0mdates\u001b[0m \u001b[0;32mand\u001b[0m \u001b[0mpnl\u001b[0m\u001b[0;34m.\u001b[0m\u001b[0mitems\u001b[0m\u001b[0;34m(\u001b[0m\u001b[0;34m)\u001b[0m\u001b[0;34m:\u001b[0m\u001b[0;34m\u001b[0m\u001b[0;34m\u001b[0m\u001b[0m\n\u001b[1;32m      9\u001b[0m         \u001b[0;32mif\u001b[0m \u001b[0mvalue\u001b[0m \u001b[0;34m==\u001b[0m \u001b[0mmax_profit\u001b[0m\u001b[0;34m:\u001b[0m\u001b[0;34m\u001b[0m\u001b[0;34m\u001b[0m\u001b[0m\n",
      "\u001b[0;31mNameError\u001b[0m: name 'month_count' is not defined"
     ]
    }
   ],
   "source": [
    "# open output path as file and write to file\n",
    "with open(\"PyBank Analysis\", 'w') as file:\n",
    "    file.write('Financial Analysis' + '\\n'\n",
    "    '------------------' + '\\n'\n",
    "    f'Total Months: {month_count}' + '\\n'\n",
    "    f'Total ${net}' + '\\n'\n",
    "    f'Average Change: ${average_change}' + '\\n')\n",
    "    for date, value in dates and pnl.items():\n",
    "        if value == max_profit:\n",
    "            file.write(f'Greatest Increase in Profits: {date} (${value})' + '\\n')\n",
    "        if value == max_loss:\n",
    "            file.write(f'Greatest Decrease in Profits: {date} (${value})')"
   ]
  },
  {
   "cell_type": "code",
   "execution_count": null,
   "metadata": {},
   "outputs": [],
   "source": [
    "#print analysis\n",
    "print('Financial Analysis' + '\\n'\n",
    "    '------------------' + '\\n'\n",
    "    f'Total Months: {month_count}' + '\\n'\n",
    "    f'Total ${net}' + '\\n'\n",
    "    f'Average Change: ${average_change}' + '\\n')\n",
    "for date, value in dates and pnl.items():\n",
    "    if value == max_profit:\n",
    "        print(f'Greatest Increase in Profits: {date} (${value})' + '\\n')\n",
    "    if value == max_loss:\n",
    "        print(f'Greatest Decrease in Profits: {date} (${value})'))"
   ]
  }
 ],
 "metadata": {
  "kernelspec": {
   "display_name": "Python 3",
   "language": "python",
   "name": "python3"
  },
  "language_info": {
   "codemirror_mode": {
    "name": "ipython",
    "version": 3
   },
   "file_extension": ".py",
   "mimetype": "text/x-python",
   "name": "python",
   "nbconvert_exporter": "python",
   "pygments_lexer": "ipython3",
   "version": "3.7.4"
  }
 },
 "nbformat": 4,
 "nbformat_minor": 4
}
