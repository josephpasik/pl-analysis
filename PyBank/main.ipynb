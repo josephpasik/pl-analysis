{
 "cells": [
  {
   "cell_type": "code",
   "execution_count": 1,
   "metadata": {},
   "outputs": [],
   "source": [
    "#import libraries\n",
    "from pathlib import Path\n",
    "import csv"
   ]
  },
  {
   "cell_type": "code",
   "execution_count": 2,
   "metadata": {},
   "outputs": [],
   "source": [
    "#define csv path\n",
    "csvpath = Path('budget_data.csv') #path not working in local vscode; please help"
   ]
  },
  {
   "cell_type": "code",
   "execution_count": 3,
   "metadata": {},
   "outputs": [],
   "source": [
    "#initiate lists and variables\n",
    "\n",
    "dates = [] #must be a list to find max increase and max decrease dates from max increase and max decrease values; to find count, find len\n",
    "pnl_values = [] #must be a list to iterate through to find change in pnl; to reutrn total, find sum\n",
    "change_in_pnl = []\n",
    "\n",
    "month_count = 0\n",
    "total_pnl = 0\n",
    "average_change = 0\n",
    "max_increase = 0\n",
    "max_decrease = 0\n",
    "max_increase_date = \"\"\n",
    "max_decrease_date = \"\""
   ]
  },
  {
   "cell_type": "code",
   "execution_count": 4,
   "metadata": {},
   "outputs": [],
   "source": [
    "#read csv file\n",
    "with open (csvpath, 'r') as csvfile:\n",
    "    csvreader = csv.reader(csvfile, delimiter=',')\n",
    "    csv_header = next(csvreader)\n",
    "    \n",
    "    #iterate through csv file to count months and add pnl values to total_pnl\n",
    "    for row in csvreader:\n",
    "        #add dates to dates list and\n",
    "        dates.append(row[0])\n",
    "        #add pnl values to to pnl_values list\n",
    "        pnl_values.append(int(row[1]))\n",
    "\n",
    "#get range (0, 85) -- 1 less than total number of pnl values and the number of change in pnl values needed; iterate through this range\n",
    "for i in range(len(pnl_values)-1): \n",
    "    #append difference between two months -- in total pnl list, starting with difference between second value (i+1) and first value (i) -- to change_in_pnl list\n",
    "    change_in_pnl.append(pnl_values[i+1]-pnl_values[i])\n",
    "        \n",
    "#find max increase and max decrease in change_in_pnl list\n",
    "max_increase = max(change_in_pnl)\n",
    "max_decrease = min(change_in_pnl)\n",
    "\n",
    "#find position of max and min values in change_in_pnl list; find associated date in dates list -- add 1 because first change in pnl (116771) is associated with second date (Feb-2010)\n",
    "max_increase_date = dates[change_in_pnl.index(max_increase)+1]\n",
    "max_decrease_date = dates[change_in_pnl.index(max_decrease)+1]\n",
    "\n",
    "#find month count by finding len of dates list\n",
    "month_count = len(dates)\n",
    "#find total pnl by summing pnl values\n",
    "total_pnl = sum(pnl_values)\n",
    "#find average change by averaging change values; round to 2 decimals\n",
    "average_change = round(sum(change_in_pnl)/len(change_in_pnl),2)"
   ]
  },
  {
   "cell_type": "code",
   "execution_count": 5,
   "metadata": {},
   "outputs": [
    {
     "name": "stdout",
     "output_type": "stream",
     "text": [
      "Financial Analysis \n",
      "------------------ \n",
      "Total Months: 86 \n",
      "Total: $38382578 \n",
      "Average Change: -2315.12 \n",
      "Greatest Increase in Profits: Feb-2012 ($1926159) \n",
      "Greatest Decrease in Profits: Sep-2013 ($-2196167)\n"
     ]
    }
   ],
   "source": [
    "#print analysis\n",
    "print('Financial Analysis \\n'\n",
    "    '------------------ \\n'\n",
    "    f'Total Months: {month_count} \\n'\n",
    "    f'Total: ${total_pnl} \\n'\n",
    "    f'Average Change: {average_change} \\n'\n",
    "    f'Greatest Increase in Profits: {max_increase_date} (${max_increase}) \\n'\n",
    "    f'Greatest Decrease in Profits: {max_decrease_date} (${max_decrease})'\n",
    ")"
   ]
  },
  {
   "cell_type": "code",
   "execution_count": 6,
   "metadata": {},
   "outputs": [],
   "source": [
    "#open output path as file and write to file\n",
    "with open(\"PyBank Analysis\", 'w') as file:\n",
    "    file.write('Financial Analysis \\n'\n",
    "    '------------------ \\n'\n",
    "    f'Total Months: {month_count} \\n'\n",
    "    f'Total: ${total_pnl} \\n'\n",
    "    f'Average Change: {average_change} \\n'\n",
    "    f'Greatest Increase in Profits: {max_increase_date} (${max_increase}) \\n'\n",
    "    f'Greatest Decrease in Profits: {max_decrease_date} (${max_decrease})'\n",
    ")"
   ]
  },
  {
   "cell_type": "code",
   "execution_count": null,
   "metadata": {},
   "outputs": [],
   "source": []
  }
 ],
 "metadata": {
  "kernelspec": {
   "display_name": "Python 3",
   "language": "python",
   "name": "python3"
  },
  "language_info": {
   "codemirror_mode": {
    "name": "ipython",
    "version": 3
   },
   "file_extension": ".py",
   "mimetype": "text/x-python",
   "name": "python",
   "nbconvert_exporter": "python",
   "pygments_lexer": "ipython3",
   "version": "3.7.4"
  }
 },
 "nbformat": 4,
 "nbformat_minor": 4
}
